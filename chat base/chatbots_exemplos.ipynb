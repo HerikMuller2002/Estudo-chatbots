{
 "cells": [
  {
   "cell_type": "code",
   "execution_count": null,
   "metadata": {},
   "outputs": [],
   "source": [
    "# chatbot simples \n",
    "\n",
    "import nltk\n",
    "from nltk.chat.util import Chat, reflections\n",
    "\n",
    "reflections_pt = {\n",
    "    'eu' : 'você',\n",
    "    'eu sou' : 'você é',\n",
    "    'eu era' : 'você era',\n",
    "    'eu iria' : 'você iria',\n",
    "    'eu irei' : 'você irá',\n",
    "    'meu' : 'seu',\n",
    "    'você' : 'eu',\n",
    "    'você é' : 'eu sou',\n",
    "    'você era' : 'eu era',\n",
    "    'você iria' : 'eu iria',\n",
    "    'você irá' : 'eu irei',\n",
    "    'seu' : 'meu'\n",
    "}\n",
    "\n",
    "# Pares de conversa\n",
    "pares = [\n",
    "    [\n",
    "     r'oi|olá|opa|',\n",
    "     ['olá', 'como vai?', 'tudo bem?']\n",
    "    ],\n",
    "    [\n",
    "     r'qual é o seu nome?',\n",
    "     ['Meu nome é Chat e eu sou um chatbot']\n",
    "    ],  \n",
    "    [\n",
    "     r'(.*) idade?',\n",
    "     ['Não tenho idade pois sou um chatbot']\n",
    "    ], \n",
    "    [\n",
    "     r'meu nome é (.*)',\n",
    "     ['Olá %1, como você está hoje?']\n",
    "    ],  \n",
    "    [\n",
    "     r'eu trabalho na empresa (.*)',\n",
    "     ['Eu conheço a empresa %1']\n",
    "    ], \n",
    "    [\n",
    "     r'(.*) (cidade|país)',\n",
    "     ['Porto União, Brasil']\n",
    "    ], \n",
    "    [\n",
    "     r'quit',\n",
    "     ['Até breve', 'Foi bom conversar com você. Até breve!']\n",
    "    ]     \n",
    "]\n",
    "\n",
    "print('Olá, sou o chat!')\n",
    "chat = Chat(pares, reflections_pt)\n",
    "chat.converse()"
   ]
  },
  {
   "cell_type": "code",
   "execution_count": null,
   "metadata": {},
   "outputs": [],
   "source": []
  }
 ],
 "metadata": {
  "kernelspec": {
   "display_name": "Python 3",
   "language": "python",
   "name": "python3"
  },
  "language_info": {
   "name": "python",
   "version": "3.11.1"
  },
  "orig_nbformat": 4,
  "vscode": {
   "interpreter": {
    "hash": "1328b88eb4b188fafd94952f9f84194ce19711d1f3c3cd44d19756a00ef817be"
   }
  }
 },
 "nbformat": 4,
 "nbformat_minor": 2
}
